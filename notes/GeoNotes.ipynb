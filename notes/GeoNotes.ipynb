{
 "cells": [
  {
   "cell_type": "markdown",
   "metadata": {},
   "source": [
    "[http://michelleful.github.io/code-blog/2015/07/15/making-maps/](http://michelleful.github.io/code-blog/2015/07/15/making-maps/)\n",
    "\n",
    "[http://boundingbox.klokantech.com/](http://boundingbox.klokantech.com/)\n",
    "\n",
    "[http://overpass-turbo.eu/](http://overpass-turbo.eu)\n",
    "\n",
    "[https://google-developers.appspot.com/maps/documentation/utils/geojson/](https://google-developers.appspot.com/maps/documentation/utils/geojson/)  \n",
    "\n",
    "[http://geojson.io](http://geojson.io)\n",
    "\n",
    "\n",
    "[https://medium.com/@sumit.arora/what-is-geojson-geojson-basics-visualize-geojson-open-geojson-using-qgis-open-geojson-3432039e336d](https://medium.com/@sumit.arora/what-is-geojson-geojson-basics-visualize-geojson-open-geojson-using-qgis-open-geojson-3432039e336d)\n",
    "\n",
    "\n",
    "[https://medium.com/@sumit.arora/getting-started-with-aws-spacenet-and-spacenet-dataset-visualization-basics-7ddd2e5809a2](https://medium.com/@sumit.arora/getting-started-with-aws-spacenet-and-spacenet-dataset-visualization-basics-7ddd2e5809a2)\n",
    "\n",
    "\n",
    "[https://github.com/kscottz/PythonFromSpace/blob/master/TheBasics.ipynb](https://github.com/kscottz/PythonFromSpace/blob/master/TheBasics.ipynb)"
   ]
  },
  {
   "cell_type": "code",
   "execution_count": null,
   "metadata": {
    "collapsed": true
   },
   "outputs": [],
   "source": [
    "# https://aws.amazon.com/earth/\n",
    "# https://spacenetchallenge.github.io/AOI_Lists/AOI_3_Paris.html\n",
    "\n",
    "# grab spacenet data:\n",
    "# aws s3 sync s3://spacenet-dataset/AOI_3_Paris/srcData/rasterData/MUL-PanSharpen/ ./ --exclude \"*\" --include \"16FEB29111913-S2AS_R08C02-056155973050_01_P001.TIF\" --request-payer requester\n"
   ]
  },
  {
   "cell_type": "code",
   "execution_count": null,
   "metadata": {
    "collapsed": true
   },
   "outputs": [],
   "source": [
    "def rgbir_to_rgb(img_4band):\n",
    "    \"\"\"Convert an RGBIR image to RGB\"\"\"\n",
    "    return img_4band[:,:,:3]\n",
    "\n",
    "def load_image3(filename):\n",
    "    \"\"\"Return a 3D (r, g, b) numpy array with the data in the specified TIFF filename.\"\"\"\n",
    "    path = os.path.abspath(os.path.join('./', filename))\n",
    "    if os.path.exists(path):\n",
    "        with rasterio.open(path) as src:\n",
    "            b,g,r,mask = src.read()\n",
    "            return np.dstack([b, g, r])\n",
    "        \n",
    "def get_mask(filename):\n",
    "    \"\"\"Return a 1D mask numpy array with the data in the specified TIFF filename.\"\"\"\n",
    "    path = os.path.abspath(os.path.join('./', filename))\n",
    "    if os.path.exists(path):\n",
    "        with rasterio.open(path) as src:\n",
    "            b,g,r,mask = src.read()\n",
    "            return np.dstack([mask])\n",
    "\n",
    "\n",
    "def  plot_bands4(img,title=\"\",i=0):\n",
    "    fig = plt.figure(i)\n",
    "    fig.set_size_inches(24, 3)\n",
    "    r, g, b, nir = img[:, :, 0], img[:, :, 1], img[:, :, 2], img[:, :, 3]\n",
    "    fig.suptitle(title)\n",
    "    for i, (x, c) in enumerate(((r, 'r'), (g, 'g'), (b, 'b'), (nir, 'near-ir'))):\n",
    "        a = fig.add_subplot(1, 4, i+1)\n",
    "        a.set_title(c)\n",
    "        plt.imshow(x)\n",
    "        \n",
    "def plot_bands3(img,title=\"\",i=0):\n",
    "    fig = plt.figure(i)\n",
    "    fig.set_size_inches(24, 5)\n",
    "    r, g, b = img[:, :, 0], img[:, :, 1], img[:, :, 2]\n",
    "    fig.suptitle(title)\n",
    "    for i, (x, c) in enumerate(((r, 'r'), (g, 'g'), (b, 'b'))):\n",
    "        a = fig.add_subplot(1, 4, i+1)\n",
    "        a.set_title(c)\n",
    "        plt.imshow(x)\n",
    "        \n",
    "        \n",
    "tiff_path = \"/Users/brian/code/planet/20180815_003119_100d/20180815_003119_100d_3B_AnalyticMS.tif\"        \n",
    "rfbc = load_image4(tiff_path)\n",
    "plot_bands3(rfbc)\n",
    "plt.show()\n",
    "\n",
    "#\n",
    "import geopandas as gpd\n",
    "df = gpd.read_file('/Users/brian/Downloads/gjq/export.geojson')\n",
    "df.plot()\n",
    "plt.show()\n",
    "\n",
    "import mplleaflet\n",
    "ax = df.plot()\n",
    "mplleaflet.display(fig=ax.figure, crs=df.crs, tiles='cartodb_positron')\n",
    "\n",
    "#\n",
    "import sys\n",
    "#!{sys.executable} -m pip uninstall rasterio\n",
    "#!{sys.executable} -m pip install --pre -U rasterio\n",
    "#!{sys.executable} -m pip install affine\n",
    "#!{sys.executable} -m pip install fiona\n",
    "#!{sys.executable} -m pip install geopandas\n",
    "!{sys.executable} -m pip install mplleaflet"
   ]
  }
 ],
 "metadata": {
  "kernelspec": {
   "display_name": "Python 3",
   "language": "python",
   "name": "python3"
  },
  "language_info": {
   "codemirror_mode": {
    "name": "ipython",
    "version": 3
   },
   "file_extension": ".py",
   "mimetype": "text/x-python",
   "name": "python",
   "nbconvert_exporter": "python",
   "pygments_lexer": "ipython3",
   "version": "3.6.0"
  }
 },
 "nbformat": 4,
 "nbformat_minor": 2
}
